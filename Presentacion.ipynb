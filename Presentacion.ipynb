{
 "cells": [
  {
   "cell_type": "markdown",
   "metadata": {},
   "source": [
    "### Matriz de Puntuaciones(Semana 1)"
   ]
  },
  {
   "cell_type": "code",
   "execution_count": 44,
   "metadata": {},
   "outputs": [
    {
     "data": {
      "image/png": "[encoded data removed]",
      "text/latex": [
       "$$\\left[\\begin{array}{cccccccccccc}1 & 0 & 0 & 0 & 0 & 0 & 0 & 0 & 0 & 0 & 0 & 0\\\\0 & s & 0 & 0 & 0 & 0 & 0 & 0 & 0 & 0 & 0 & 0\\\\1 & 1 & s & 0 & 0 & 0 & 0 & 0 & 0 & 0 & 0 & 0\\\\0 & 0 & 0 & 1 & -1 & 2 & -1 & 0 & 0 & 0 & 0 & 0\\\\0 & 0 & 0 & 0 & 1 & 0 & 0 & 0 & 0 & 0 & 0 & 0\\\\0 & 0 & 0 & 0 & 0 & -1 & 1 & 0 & 0 & 0 & 0 & 0\\\\0 & 0 & 0 & 0 & 0 & 0 & 1 & 0 & 0 & 0 & 0 & 0\\\\0 & 0 & 0 & 0 & 0 & 0 & 0 & 1 & s & 0 & 0 & 0\\\\0 & 0 & 0 & 0 & 0 & 0 & 0 & 0 & 1 & s & 0 & 0\\\\0 & 0 & 0 & 0 & 0 & 0 & 0 & 0 & 0 & 1 & s & 0\\\\0 & 0 & 0 & 0 & 0 & 0 & 0 & 0 & 0 & 0 & 1 & s\\\\0 & 0 & 0 & 0 & 0 & 0 & 0 & 0 & 0 & 0 & 0 & 1\\end{array}\\right]$$"
      ],
      "text/plain": [
       "⎡1  0  0  0  0   0   0   0  0  0  0  0⎤\n",
       "⎢                                     ⎥\n",
       "⎢0  s  0  0  0   0   0   0  0  0  0  0⎥\n",
       "⎢                                     ⎥\n",
       "⎢1  1  s  0  0   0   0   0  0  0  0  0⎥\n",
       "⎢                                     ⎥\n",
       "⎢0  0  0  1  -1  2   -1  0  0  0  0  0⎥\n",
       "⎢                                     ⎥\n",
       "⎢0  0  0  0  1   0   0   0  0  0  0  0⎥\n",
       "⎢                                     ⎥\n",
       "⎢0  0  0  0  0   -1  1   0  0  0  0  0⎥\n",
       "⎢                                     ⎥\n",
       "⎢0  0  0  0  0   0   1   0  0  0  0  0⎥\n",
       "⎢                                     ⎥\n",
       "⎢0  0  0  0  0   0   0   1  s  0  0  0⎥\n",
       "⎢                                     ⎥\n",
       "⎢0  0  0  0  0   0   0   0  1  s  0  0⎥\n",
       "⎢                                     ⎥\n",
       "⎢0  0  0  0  0   0   0   0  0  1  s  0⎥\n",
       "⎢                                     ⎥\n",
       "⎢0  0  0  0  0   0   0   0  0  0  1  s⎥\n",
       "⎢                                     ⎥\n",
       "⎣0  0  0  0  0   0   0   0  0  0  0  1⎦"
      ]
     },
     "execution_count": 44,
     "metadata": {},
     "output_type": "execute_result"
    }
   ],
   "source": [
    "from sympy import symbols, Matrix, init_printing\n",
    "\n",
    "\"\"\"\n",
    "A1: matriz de puntuaciones en la primera practica de tiros.\n",
    "A1(i,j): puntuación del tiro j-esimo sobre la i-esima diana\n",
    "s: bonificación por tirar en la diana\n",
    "\"\"\"\n",
    "\n",
    "s = symbols('s')\n",
    "\n",
    "A = Matrix([\n",
    "[1,  0,  0, 0,  0,  0,  0, 0,  0,  0,   0,   0],\n",
    "[0, s,  0, 0,  0,  0,  0, 0,  0,  0,   0,   0],\n",
    "[1,  1, s, 0,  0,  0,  0, 0,  0,  0,   0,   0],\n",
    "[0,  0,  0, 1, -1,  2, -1, 0,  0,  0,   0,   0],\n",
    "[0,  0,  0, 0,  1,  0,  0, 0,  0,  0,   0,   0],\n",
    "[0,  0,  0, 0,  0, -1,  1, 0,  0,  0,   0,   0],\n",
    "[0,  0,  0, 0,  0,  0,  1, 0,  0,  0,   0,   0],\n",
    "[0,  0,  0, 0,  0,  0,  0, 1, s,  0,   0,   0],\n",
    "[0,  0,  0, 0,  0,  0,  0, 0,  1, s,   0,   0],\n",
    "[0,  0,  0, 0,  0,  0,  0, 0,  0,  1, s,   0],\n",
    "[0,  0,  0, 0,  0,  0,  0, 0,  0,  0,   1, s],\n",
    "[0,  0,  0, 0,  0,  0,  0, 0,  0,  0,   0,   1]])\n",
    "\n",
    "\n",
    "init_printing()\n",
    "A"
   ]
  },
  {
   "cell_type": "markdown",
   "metadata": {},
   "source": [
    "### Cálculo de la forma de jordan y de la matriz de permutación (Sympy)"
   ]
  },
  {
   "cell_type": "code",
   "execution_count": 43,
   "metadata": {},
   "outputs": [
    {
     "data": {
      "image/png": "[encoded data removed]",
      "text/latex": [
       "$$\\left[\\begin{array}{cccccccccccc}-1 & 0 & 0 & 0 & 0 & 0 & 0 & 0 & 0 & 0 & 0 & 0\\\\0 & 1 & 1 & 0 & 0 & 0 & 0 & 0 & 0 & 0 & 0 & 0\\\\0 & 0 & 1 & 1 & 0 & 0 & 0 & 0 & 0 & 0 & 0 & 0\\\\0 & 0 & 0 & 1 & 1 & 0 & 0 & 0 & 0 & 0 & 0 & 0\\\\0 & 0 & 0 & 0 & 1 & 1 & 0 & 0 & 0 & 0 & 0 & 0\\\\0 & 0 & 0 & 0 & 0 & 1 & 0 & 0 & 0 & 0 & 0 & 0\\\\0 & 0 & 0 & 0 & 0 & 0 & 1 & 1 & 0 & 0 & 0 & 0\\\\0 & 0 & 0 & 0 & 0 & 0 & 0 & 1 & 0 & 0 & 0 & 0\\\\0 & 0 & 0 & 0 & 0 & 0 & 0 & 0 & 1 & 0 & 0 & 0\\\\0 & 0 & 0 & 0 & 0 & 0 & 0 & 0 & 0 & 1 & 0 & 0\\\\0 & 0 & 0 & 0 & 0 & 0 & 0 & 0 & 0 & 0 & s & 1\\\\0 & 0 & 0 & 0 & 0 & 0 & 0 & 0 & 0 & 0 & 0 & s\\end{array}\\right]$$"
      ],
      "text/plain": [
       "⎡-1  0  0  0  0  0  0  0  0  0  0  0⎤\n",
       "⎢                                   ⎥\n",
       "⎢0   1  1  0  0  0  0  0  0  0  0  0⎥\n",
       "⎢                                   ⎥\n",
       "⎢0   0  1  1  0  0  0  0  0  0  0  0⎥\n",
       "⎢                                   ⎥\n",
       "⎢0   0  0  1  1  0  0  0  0  0  0  0⎥\n",
       "⎢                                   ⎥\n",
       "⎢0   0  0  0  1  1  0  0  0  0  0  0⎥\n",
       "⎢                                   ⎥\n",
       "⎢0   0  0  0  0  1  0  0  0  0  0  0⎥\n",
       "⎢                                   ⎥\n",
       "⎢0   0  0  0  0  0  1  1  0  0  0  0⎥\n",
       "⎢                                   ⎥\n",
       "⎢0   0  0  0  0  0  0  1  0  0  0  0⎥\n",
       "⎢                                   ⎥\n",
       "⎢0   0  0  0  0  0  0  0  1  0  0  0⎥\n",
       "⎢                                   ⎥\n",
       "⎢0   0  0  0  0  0  0  0  0  1  0  0⎥\n",
       "⎢                                   ⎥\n",
       "⎢0   0  0  0  0  0  0  0  0  0  s  1⎥\n",
       "⎢                                   ⎥\n",
       "⎣0   0  0  0  0  0  0  0  0  0  0  s⎦"
      ]
     },
     "execution_count": 43,
     "metadata": {},
     "output_type": "execute_result"
    }
   ],
   "source": [
    "\"\"\"\n",
    "Cálculo de la matriz de jordan y de la matriz de cambio de base\n",
    "\"\"\"\n",
    "\n",
    "P, J = A.jordan_form()\n",
    "J"
   ]
  },
  {
   "cell_type": "markdown",
   "metadata": {},
   "source": [
    "### Cálculo de la potencia k-esima de A mediante la relacion:\n",
    "\n",
    "$$A^{k} = P J^{k}P^{-1}$$"
   ]
  },
  {
   "cell_type": "code",
   "execution_count": 45,
   "metadata": {},
   "outputs": [
    {
     "data": {
      "image/png": "[encoded data removed]",
      "text/latex": [
       "$$\\left[\\begin{array}{cccccccccccc}- \\frac{- s + 1}{s - 1} & 0 & 0 & 0 & 0 & 0 & 0 & 0 & 0 & 0 & 0 & 0\\\\0 & s^{k} & 0 & 0 & 0 & 0 & 0 & 0 & 0 & 0 & 0 & 0\\\\\\frac{s^{k}}{s - 1} - \\frac{1}{s - 1} & k s^{k - 1} & s^{k} & 0 & 0 & 0 & 0 & 0 & 0 & 0 & 0 & 0\\\\0 & 0 & 0 & 1 & - k & - \\left(-1\\right)^{k} + 1 & \\frac{\\left(-1\\right)^{k}}{2} - \\frac{1}{2} & 0 & 0 & 0 & 0 & 0\\\\0 & 0 & 0 & 0 & 1 & 0 & 0 & 0 & 0 & 0 & 0 & 0\\\\0 & 0 & 0 & 0 & 0 & \\left(-1\\right)^{k} & - \\frac{\\left(-1\\right)^{k}}{2} + \\frac{1}{2} & 0 & 0 & 0 & 0 & 0\\\\0 & 0 & 0 & 0 & 0 & 0 & 1 & 0 & 0 & 0 & 0 & 0\\\\0 & 0 & 0 & 0 & 0 & 0 & 0 & 1 & k s & \\frac{k s^{2} \\left(k - 1\\right)}{2} & \\frac{k s^{3} \\left(k - 2\\right) \\left(k - 1\\right)}{6} & \\frac{k s^{4} \\left(k - 3\\right) \\left(k - 2\\right) \\left(k - 1\\right)}{24}\\\\0 & 0 & 0 & 0 & 0 & 0 & 0 & 0 & 1 & k s & \\frac{k s^{2} \\left(k - 1\\right)}{2} & \\frac{k s^{3} \\left(k - 2\\right) \\left(k - 1\\right)}{6}\\\\0 & 0 & 0 & 0 & 0 & 0 & 0 & 0 & 0 & 1 & k s & \\frac{k s^{2} \\left(k - 1\\right)}{2}\\\\0 & 0 & 0 & 0 & 0 & 0 & 0 & 0 & 0 & 0 & 1 & k s\\\\0 & 0 & 0 & 0 & 0 & 0 & 0 & 0 & 0 & 0 & 0 & 1\\end{array}\\right]$$"
      ],
      "text/plain": [
       "⎡ -(-s + 1)                                                                   \n",
       "⎢ ──────────       0      0   0  0        0            0       0   0        0 \n",
       "⎢   s - 1                                                                     \n",
       "⎢                                                                             \n",
       "⎢                   k                                                         \n",
       "⎢      0           s      0   0  0        0            0       0   0        0 \n",
       "⎢                                                                             \n",
       "⎢   k                                                                         \n",
       "⎢  s       1       k - 1   k                                                  \n",
       "⎢───── - ─────  k⋅s       s   0  0        0            0       0   0        0 \n",
       "⎢s - 1   s - 1                                                                \n",
       "⎢                                                                             \n",
       "⎢                                                      k                      \n",
       "⎢                                          k       (-1)    1                  \n",
       "⎢      0           0      0   1  -k  - (-1)  + 1   ───── - ─   0   0        0 \n",
       "⎢                                                    2     2                  \n",
       "⎢                                                                             \n",
       "⎢      0           0      0   0  1        0            0       0   0        0 \n",
       "⎢                                                                             \n",
       "⎢                                                       k                     \n",
       "⎢                                           k       (-1)    1                 \n",
       "⎢      0           0      0   0  0      (-1)      - ───── + ─  0   0        0 \n",
       "⎢                                                     2     2                 \n",
       "⎢                                                                             \n",
       "⎢      0           0      0   0  0        0            1       0   0        0 \n",
       "⎢                                                                             \n",
       "⎢                                                                         2   \n",
       "⎢                                                                      k⋅s ⋅(k\n",
       "⎢      0           0      0   0  0        0            0       1  k⋅s  ───────\n",
       "⎢                                                                           2 \n",
       "⎢                                                                             \n",
       "⎢                                                                             \n",
       "⎢                                                                             \n",
       "⎢      0           0      0   0  0        0            0       0   1       k⋅s\n",
       "⎢                                                                             \n",
       "⎢                                                                             \n",
       "⎢                                                                             \n",
       "⎢                                                                             \n",
       "⎢      0           0      0   0  0        0            0       0   0        1 \n",
       "⎢                                                                             \n",
       "⎢                                                                             \n",
       "⎢      0           0      0   0  0        0            0       0   0        0 \n",
       "⎢                                                                             \n",
       "⎣      0           0      0   0  0        0            0       0   0        0 \n",
       "\n",
       "                                                         ⎤\n",
       "                0                         0              ⎥\n",
       "                                                         ⎥\n",
       "                                                         ⎥\n",
       "                                                         ⎥\n",
       "                0                         0              ⎥\n",
       "                                                         ⎥\n",
       "                                                         ⎥\n",
       "                                                         ⎥\n",
       "                0                         0              ⎥\n",
       "                                                         ⎥\n",
       "                                                         ⎥\n",
       "                                                         ⎥\n",
       "                                                         ⎥\n",
       "                0                         0              ⎥\n",
       "                                                         ⎥\n",
       "                                                         ⎥\n",
       "                0                         0              ⎥\n",
       "                                                         ⎥\n",
       "                                                         ⎥\n",
       "                                                         ⎥\n",
       "                0                         0              ⎥\n",
       "                                                         ⎥\n",
       "                                                         ⎥\n",
       "                0                         0              ⎥\n",
       "                                                         ⎥\n",
       "          3                     4                        ⎥\n",
       " - 1)  k⋅s ⋅(k - 2)⋅(k - 1)  k⋅s ⋅(k - 3)⋅(k - 2)⋅(k - 1)⎥\n",
       "─────  ────────────────────  ────────────────────────────⎥\n",
       "                6                         24             ⎥\n",
       "                                                         ⎥\n",
       "              2                     3                    ⎥\n",
       "           k⋅s ⋅(k - 1)          k⋅s ⋅(k - 2)⋅(k - 1)    ⎥\n",
       "           ────────────          ────────────────────    ⎥\n",
       "                2                         6              ⎥\n",
       "                                                         ⎥\n",
       "                                        2                ⎥\n",
       "                                     k⋅s ⋅(k - 1)        ⎥\n",
       "               k⋅s                   ────────────        ⎥\n",
       "                                          2              ⎥\n",
       "                                                         ⎥\n",
       "                1                        k⋅s             ⎥\n",
       "                                                         ⎥\n",
       "                0                         1              ⎦"
      ]
     },
     "execution_count": 45,
     "metadata": {},
     "output_type": "execute_result"
    }
   ],
   "source": [
    "\"\"\"\n",
    "Cálculo de la potencoa k-esima de la matriz A, mediante la matriz de jordan.\n",
    "\n",
    "A**k = P*JK*P**(-1)\n",
    "\n",
    "Donde:\n",
    "Pk: Potencia k-esima de la matriz de jordan de A\n",
    "Ak: Potencia k-esima de la matriz de jordan de A\n",
    "\"\"\"\n",
    "k = symbols('k')\n",
    "JK = J**k\n",
    "\n",
    "AK = P*JK*P**(-1)\n",
    "\n",
    "AK"
   ]
  },
  {
   "cell_type": "markdown",
   "metadata": {},
   "source": [
    "# Cálculo de la matriz de puntajes (semana k) "
   ]
  },
  {
   "cell_type": "code",
   "execution_count": 48,
   "metadata": {},
   "outputs": [
    {
     "name": "stdout",
     "output_type": "stream",
     "text": [
      "Valor de la bonificación por tirar en la diana: 2\n",
      "Ingrese la semana,para calcular sus puntajes: 2\n",
      "*********************Matriz de puntajes(semana 2)*********************\n",
      "Matrix([[1.00000000000000, 0, 0, 0, 0, 0, 0, 0, 0, 0, 0, 0]])\n",
      "Matrix([[0, 4.00000000000000, 0, 0, 0, 0, 0, 0, 0, 0, 0, 0]])\n",
      "Matrix([[3.00000000000000, 4.00000000000000, 4.00000000000000, 0, 0, 0, 0, 0, 0, 0, 0, 0]])\n",
      "Matrix([[0, 0, 0, 1.00000000000000, -2.00000000000000, 0.e-125, 0.e-125, 0, 0, 0, 0, 0]])\n",
      "Matrix([[0, 0, 0, 0, 1.00000000000000, 0, 0, 0, 0, 0, 0, 0]])\n",
      "Matrix([[0, 0, 0, 0, 0, 1.00000000000000, 0.e-125, 0, 0, 0, 0, 0]])\n",
      "Matrix([[0, 0, 0, 0, 0, 0, 1.00000000000000, 0, 0, 0, 0, 0]])\n",
      "Matrix([[0, 0, 0, 0, 0, 0, 0, 1.00000000000000, 4.00000000000000, 4.00000000000000, 0.e-125, -0.e-127]])\n",
      "Matrix([[0, 0, 0, 0, 0, 0, 0, 0, 1.00000000000000, 4.00000000000000, 4.00000000000000, 0.e-125]])\n",
      "Matrix([[0, 0, 0, 0, 0, 0, 0, 0, 0, 1.00000000000000, 4.00000000000000, 4.00000000000000]])\n",
      "Matrix([[0, 0, 0, 0, 0, 0, 0, 0, 0, 0, 1.00000000000000, 4.00000000000000]])\n",
      "Matrix([[0, 0, 0, 0, 0, 0, 0, 0, 0, 0, 0, 1.00000000000000]])\n",
      "\n",
      "\n",
      "Puntuación con norma infinito:\t11.0000000000000\n",
      "Puntuación con norma 1:\t9.00000000000000\n"
     ]
    }
   ],
   "source": [
    "\"\"\"\n",
    "Evaluacion de simbolos\n",
    "s: bonificación por tirar en la diana\n",
    "\"\"\"\n",
    "\n",
    "from sympy import symbols, init_printing\n",
    "import scipy.linalg as sl\n",
    "import numpy as np\n",
    "\n",
    "\n",
    "def power_jordan(A):\n",
    "    k = symbols('k')\n",
    "    P, J = A.jordan_form()\n",
    "    JK = J**k\n",
    "    AK = P*JK*P**(-1)\n",
    "\n",
    "    return AK\n",
    "\n",
    "\n",
    "def puntaje_k(A, s0, k0):\n",
    "    puntk = power_jordan(A)\n",
    "    return puntk.evalf(subs={s:s0, k:k0}) # Matriz de puntajes semana k0\n",
    "    \n",
    "def print_matrix(A):\n",
    "    nrow = np.shape(A)[0]\n",
    "    for k in range(nrow):\n",
    "        print(\"{}\".format(A[k,:]))\n",
    "    \n",
    "    \n",
    "    \n",
    "\n",
    "s0 = float(input(\"Valor de la bonificación por tirar en la diana: \"))\n",
    "k0 = int(input(\"Ingrese la semana,para calcular sus puntajes: \"))\n",
    "\n",
    "while s0 < 0 or s0 == 1 or k0 < 0:\n",
    "    print(\"Por favor ingrese valores correctos: \")\n",
    "    s0 = float(input(\"Valor de la bonificación por tirar en la diana: \"))\n",
    "    k0 = int(input(\"Ingrese la semana,para calcular sus puntajes: \"))\n",
    "\n",
    "\n",
    "Ak = puntaje_k(A, s0, k0)\n",
    "\n",
    "punt_inf = sl.norm(Ak, np.inf)\n",
    "punt_1 = sl.norm(Ak, 1)\n",
    "\n",
    "init_printing()\n",
    "print(\"*********************Matriz de puntajes(semana {})*********************\".format(k0))\n",
    "print_matrix(Ak)\n",
    "print(\"\\n\\nPuntuación con norma infinito:\\t{}\\nPuntuación con norma 1:\\t{}\".format(punt_inf, punt_1))\n"
   ]
  }
 ],
 "metadata": {
  "kernelspec": {
   "display_name": "Python 3",
   "language": "python",
   "name": "python3"
  },
  "language_info": {
   "codemirror_mode": {
    "name": "ipython",
    "version": 3
   },
   "file_extension": ".py",
   "mimetype": "text/x-python",
   "name": "python",
   "nbconvert_exporter": "python",
   "pygments_lexer": "ipython3",
   "version": "3.7.3"
  }
 },
 "nbformat": 4,
 "nbformat_minor": 2
}
